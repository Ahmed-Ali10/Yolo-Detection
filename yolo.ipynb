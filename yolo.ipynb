{
 "cells": [
  {
   "cell_type": "code",
   "execution_count": 2,
   "id": "d39a3a52",
   "metadata": {},
   "outputs": [
    {
     "name": "stdout",
     "output_type": "stream",
     "text": [
      "Collecting ultralyticsNote: you may need to restart the kernel to use updated packages.\n"
     ]
    },
    {
     "name": "stderr",
     "output_type": "stream",
     "text": [
      "WARNING: Ignoring invalid distribution -pencv-python (c:\\users\\el sonni\\anaconda3\\lib\\site-packages)\n",
      "WARNING: Ignoring invalid distribution -pencv-python (c:\\users\\el sonni\\anaconda3\\lib\\site-packages)\n",
      "WARNING: Ignoring invalid distribution -pencv-python (c:\\users\\el sonni\\anaconda3\\lib\\site-packages)\n",
      "    WARNING: Ignoring invalid distribution -pencv-python (c:\\users\\el sonni\\anaconda3\\lib\\site-packages)\n",
      "    WARNING: Ignoring invalid distribution -pencv-python (c:\\users\\el sonni\\anaconda3\\lib\\site-packages)\n",
      "    WARNING: Ignoring invalid distribution -pencv-python (c:\\users\\el sonni\\anaconda3\\lib\\site-packages)\n",
      "WARNING: Ignoring invalid distribution -pencv-python (c:\\users\\el sonni\\anaconda3\\lib\\site-packages)\n",
      "WARNING: Ignoring invalid distribution -pencv-python (c:\\users\\el sonni\\anaconda3\\lib\\site-packages)\n",
      "WARNING: Ignoring invalid distribution -pencv-python (c:\\users\\el sonni\\anaconda3\\lib\\site-packages)\n",
      "WARNING: Ignoring invalid distribution -pencv-python (c:\\users\\el sonni\\anaconda3\\lib\\site-packages)\n",
      "WARNING: Ignoring invalid distribution -pencv-python (c:\\users\\el sonni\\anaconda3\\lib\\site-packages)\n",
      "WARNING: Ignoring invalid distribution -pencv-python (c:\\users\\el sonni\\anaconda3\\lib\\site-packages)\n",
      "WARNING: Ignoring invalid distribution -pencv-python (c:\\users\\el sonni\\anaconda3\\lib\\site-packages)\n",
      "WARNING: Ignoring invalid distribution -pencv-python (c:\\users\\el sonni\\anaconda3\\lib\\site-packages)\n",
      "ERROR: pip's dependency resolver does not currently take into account all the packages that are installed. This behaviour is the source of the following dependency conflicts.\n",
      "daal4py 2021.3.0 requires daal==2021.2.3, which is not installed.\n",
      "conda-repo-cli 1.0.4 requires pathlib, which is not installed.\n",
      "anaconda-project 0.10.1 requires ruamel-yaml, which is not installed.\n",
      "ydata-profiling 4.1.2 requires requests<2.29,>=2.24.0, but you have requests 2.30.0 which is incompatible.\n",
      "ydata-profiling 4.1.2 requires tqdm<4.65,>=4.48.2, but you have tqdm 4.65.0 which is incompatible.\n",
      "numba 0.54.1 requires numpy<1.21,>=1.17, but you have numpy 1.22.4 which is incompatible.\n",
      "WARNING: Ignoring invalid distribution -pencv-python (c:\\users\\el sonni\\anaconda3\\lib\\site-packages)\n",
      "WARNING: Ignoring invalid distribution -pencv-python (c:\\users\\el sonni\\anaconda3\\lib\\site-packages)\n",
      "WARNING: Ignoring invalid distribution -pencv-python (c:\\users\\el sonni\\anaconda3\\lib\\site-packages)\n"
     ]
    },
    {
     "name": "stdout",
     "output_type": "stream",
     "text": [
      "\n",
      "  Downloading ultralytics-8.0.100-py3-none-any.whl (585 kB)\n",
      "Collecting torch>=1.7.0\n",
      "  Downloading torch-2.0.1-cp39-cp39-win_amd64.whl (172.4 MB)\n",
      "Requirement already satisfied: opencv-python>=4.6.0 in c:\\users\\el sonni\\anaconda3\\lib\\site-packages (from ultralytics) (4.7.0.72)\n",
      "Requirement already satisfied: Pillow>=7.1.2 in c:\\users\\el sonni\\anaconda3\\lib\\site-packages (from ultralytics) (8.4.0)\n",
      "Requirement already satisfied: matplotlib>=3.2.2 in c:\\users\\el sonni\\anaconda3\\lib\\site-packages (from ultralytics) (3.4.3)\n",
      "Collecting torchvision>=0.8.1\n",
      "  Downloading torchvision-0.15.2-cp39-cp39-win_amd64.whl (1.2 MB)\n",
      "Requirement already satisfied: pandas>=1.1.4 in c:\\users\\el sonni\\anaconda3\\lib\\site-packages (from ultralytics) (1.3.4)\n",
      "Collecting thop>=0.1.1\n",
      "  Downloading thop-0.1.1.post2209072238-py3-none-any.whl (15 kB)\n",
      "Requirement already satisfied: seaborn>=0.11.0 in c:\\users\\el sonni\\anaconda3\\lib\\site-packages (from ultralytics) (0.11.2)\n",
      "Collecting tqdm>=4.64.0\n",
      "  Downloading tqdm-4.65.0-py3-none-any.whl (77 kB)\n",
      "Collecting sentry-sdk\n",
      "  Downloading sentry_sdk-1.22.2-py2.py3-none-any.whl (203 kB)\n",
      "Requirement already satisfied: psutil in c:\\users\\el sonni\\anaconda3\\lib\\site-packages (from ultralytics) (5.8.0)\n",
      "Requirement already satisfied: requests>=2.23.0 in c:\\users\\el sonni\\anaconda3\\lib\\site-packages (from ultralytics) (2.30.0)\n",
      "Requirement already satisfied: PyYAML>=5.3.1 in c:\\users\\el sonni\\anaconda3\\lib\\site-packages (from ultralytics) (6.0)\n",
      "Requirement already satisfied: scipy>=1.4.1 in c:\\users\\el sonni\\anaconda3\\lib\\site-packages (from ultralytics) (1.7.1)\n",
      "Requirement already satisfied: pyparsing>=2.2.1 in c:\\users\\el sonni\\anaconda3\\lib\\site-packages (from matplotlib>=3.2.2->ultralytics) (3.0.4)\n",
      "Requirement already satisfied: numpy>=1.16 in c:\\users\\el sonni\\anaconda3\\lib\\site-packages (from matplotlib>=3.2.2->ultralytics) (1.24.3)\n",
      "Requirement already satisfied: python-dateutil>=2.7 in c:\\users\\el sonni\\anaconda3\\lib\\site-packages (from matplotlib>=3.2.2->ultralytics) (2.8.2)\n",
      "Requirement already satisfied: kiwisolver>=1.0.1 in c:\\users\\el sonni\\anaconda3\\lib\\site-packages (from matplotlib>=3.2.2->ultralytics) (1.3.1)\n",
      "Requirement already satisfied: cycler>=0.10 in c:\\users\\el sonni\\anaconda3\\lib\\site-packages (from matplotlib>=3.2.2->ultralytics) (0.10.0)\n",
      "Requirement already satisfied: six in c:\\users\\el sonni\\anaconda3\\lib\\site-packages (from cycler>=0.10->matplotlib>=3.2.2->ultralytics) (1.16.0)\n",
      "Requirement already satisfied: pytz>=2017.3 in c:\\users\\el sonni\\anaconda3\\lib\\site-packages (from pandas>=1.1.4->ultralytics) (2021.3)\n",
      "Requirement already satisfied: idna<4,>=2.5 in c:\\users\\el sonni\\anaconda3\\lib\\site-packages (from requests>=2.23.0->ultralytics) (2.6)\n",
      "Requirement already satisfied: certifi>=2017.4.17 in c:\\users\\el sonni\\anaconda3\\lib\\site-packages (from requests>=2.23.0->ultralytics) (2021.10.8)\n",
      "Requirement already satisfied: urllib3<3,>=1.21.1 in c:\\users\\el sonni\\anaconda3\\lib\\site-packages (from requests>=2.23.0->ultralytics) (1.22)\n",
      "Requirement already satisfied: charset-normalizer<4,>=2 in c:\\users\\el sonni\\anaconda3\\lib\\site-packages (from requests>=2.23.0->ultralytics) (2.0.4)\n",
      "Collecting numpy>=1.16\n",
      "  Using cached numpy-1.22.4-cp39-cp39-win_amd64.whl (14.7 MB)\n",
      "Requirement already satisfied: networkx in c:\\users\\el sonni\\anaconda3\\lib\\site-packages (from torch>=1.7.0->ultralytics) (2.6.3)\n",
      "Requirement already satisfied: filelock in c:\\users\\el sonni\\anaconda3\\lib\\site-packages (from torch>=1.7.0->ultralytics) (3.3.1)\n",
      "Requirement already satisfied: sympy in c:\\users\\el sonni\\anaconda3\\lib\\site-packages (from torch>=1.7.0->ultralytics) (1.9)\n",
      "Requirement already satisfied: typing-extensions in c:\\users\\el sonni\\anaconda3\\lib\\site-packages (from torch>=1.7.0->ultralytics) (4.5.0)\n",
      "Requirement already satisfied: jinja2 in c:\\users\\el sonni\\anaconda3\\lib\\site-packages (from torch>=1.7.0->ultralytics) (2.11.3)\n",
      "Requirement already satisfied: colorama in c:\\users\\el sonni\\anaconda3\\lib\\site-packages (from tqdm>=4.64.0->ultralytics) (0.4.4)\n",
      "Requirement already satisfied: MarkupSafe>=0.23 in c:\\users\\el sonni\\anaconda3\\lib\\site-packages (from jinja2->torch>=1.7.0->ultralytics) (1.1.1)\n",
      "Collecting urllib3<3,>=1.21.1\n",
      "  Downloading urllib3-2.0.2-py3-none-any.whl (123 kB)\n",
      "  Downloading urllib3-1.26.15-py2.py3-none-any.whl (140 kB)\n",
      "Requirement already satisfied: mpmath>=0.19 in c:\\users\\el sonni\\anaconda3\\lib\\site-packages (from sympy->torch>=1.7.0->ultralytics) (1.2.1)\n",
      "Installing collected packages: urllib3, numpy, torch, tqdm, torchvision, thop, sentry-sdk, ultralytics\n",
      "  Attempting uninstall: urllib3\n",
      "    Found existing installation: urllib3 1.22\n",
      "    Uninstalling urllib3-1.22:\n",
      "      Successfully uninstalled urllib3-1.22\n",
      "  Attempting uninstall: numpy\n",
      "    Found existing installation: numpy 1.24.3\n",
      "    Uninstalling numpy-1.24.3:\n",
      "      Successfully uninstalled numpy-1.24.3\n",
      "  Attempting uninstall: tqdm\n",
      "    Found existing installation: tqdm 4.62.3\n",
      "    Uninstalling tqdm-4.62.3:\n",
      "      Successfully uninstalled tqdm-4.62.3\n",
      "Successfully installed numpy-1.22.4 sentry-sdk-1.22.2 thop-0.1.1.post2209072238 torch-2.0.1 torchvision-0.15.2 tqdm-4.65.0 ultralytics-8.0.100 urllib3-1.26.15\n"
     ]
    }
   ],
   "source": [
    "pip install ultralytics\n"
   ]
  },
  {
   "cell_type": "code",
   "execution_count": 1,
   "id": "8757c29f",
   "metadata": {},
   "outputs": [
    {
     "name": "stderr",
     "output_type": "stream",
     "text": [
      "\n",
      "image 1/1 C:\\Users\\EL SONNI\\yolo\\image.jpg: 448x800 28 cars, 390.1ms\n",
      "Speed: 9.0ms preprocess, 390.1ms inference, 14.0ms postprocess per image at shape (1, 3, 800, 800)\n",
      "Results saved to \u001b[1mruns\\detect\\predict5\u001b[0m\n"
     ]
    }
   ],
   "source": [
    "from ultralytics import YOLO\n",
    "\n",
    "\n",
    "# load a custom model\n",
    "model = YOLO(\"best.pt\")  \n",
    "\n",
    "# Predict with the model\n",
    "results = model.predict(\"image.jpg\", save=True ,save_crop=True)\n"
   ]
  },
  {
   "cell_type": "code",
   "execution_count": null,
   "id": "10368039",
   "metadata": {},
   "outputs": [],
   "source": []
  }
 ],
 "metadata": {
  "kernelspec": {
   "display_name": "Python 3 (ipykernel)",
   "language": "python",
   "name": "python3"
  },
  "language_info": {
   "codemirror_mode": {
    "name": "ipython",
    "version": 3
   },
   "file_extension": ".py",
   "mimetype": "text/x-python",
   "name": "python",
   "nbconvert_exporter": "python",
   "pygments_lexer": "ipython3",
   "version": "3.9.7"
  }
 },
 "nbformat": 4,
 "nbformat_minor": 5
}
